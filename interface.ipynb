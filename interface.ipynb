{
 "cells": [
  {
   "cell_type": "code",
   "execution_count": 1,
   "metadata": {},
   "outputs": [],
   "source": [
    "import ipywidgets as wg\n",
    "import datetime as dt\n",
    "from IPython.display import display, clear_output\n",
    "from manage_db import task_sp_db, get_crit_dict, get_crit_range, get_pers_dict, get_prop_dict, get_prop_option_dict, get_feats_list\n",
    "from insert_facts import task_sp_facts\n",
    "SPDB = task_sp_db()\n",
    "Tasks = task_sp_facts()"
   ]
  },
  {
   "cell_type": "code",
   "execution_count": 2,
   "metadata": {},
   "outputs": [
    {
     "data": {
      "application/vnd.jupyter.widget-view+json": {
       "model_id": "a4798c69c03b4fa7a6a3a95faeb994b4",
       "version_major": 2,
       "version_minor": 0
      },
      "text/plain": [
       "HBox(children=(Text(value='', description='task uid'), Text(value='', description='описание'), Button(button_s…"
      ]
     },
     "metadata": {},
     "output_type": "display_data"
    }
   ],
   "source": [
    "# создать задачу\n",
    "task_name = wg.Text(description='task uid')\n",
    "task_desc = wg.Text(description='описание')\n",
    "add_task_button= wg.Button(description='добавить задачу', button_style='warning')\n",
    "def add_task(b):\n",
    "    Tasks.add_task(task_name.value, task_desc.value)\n",
    "add_task_button.on_click(add_task)\n",
    "display(wg.HBox([task_name, task_desc, add_task_button]))"
   ]
  },
  {
   "cell_type": "code",
   "execution_count": 12,
   "metadata": {},
   "outputs": [
    {
     "data": {
      "text/plain": [
       "[1, 2, 3, 4, 5]"
      ]
     },
     "execution_count": 12,
     "metadata": {},
     "output_type": "execute_result"
    }
   ],
   "source": [
    "# ввод всех данных о задаче\n",
    "crit_dict = get_crit_dict()\n",
    "crit_range = [i+1 for i in range(SPDB.ranges)]\n",
    "pers_dict = get_pers_dict()\n",
    "prop_dict = get_prop_dict()\n"
   ]
  },
  {
   "cell_type": "code",
   "execution_count": null,
   "metadata": {},
   "outputs": [],
   "source": []
  }
 ],
 "metadata": {
  "kernelspec": {
   "display_name": "Vault_env",
   "language": "python",
   "name": "python3"
  },
  "language_info": {
   "codemirror_mode": {
    "name": "ipython",
    "version": 3
   },
   "file_extension": ".py",
   "mimetype": "text/x-python",
   "name": "python",
   "nbconvert_exporter": "python",
   "pygments_lexer": "ipython3",
   "version": "3.11.2"
  },
  "orig_nbformat": 4
 },
 "nbformat": 4,
 "nbformat_minor": 2
}
