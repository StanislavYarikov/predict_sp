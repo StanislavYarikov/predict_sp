{
 "cells": [
  {
   "cell_type": "code",
   "execution_count": 1,
   "metadata": {},
   "outputs": [],
   "source": [
    "import ipywidgets as wg\n",
    "import datetime as dt\n",
    "from IPython.display import display, clear_output\n",
    "from manage_db import task_sp_db, get_crit_dict, get_crit_range, get_pers_dict, get_prop_dict, get_prop_option_dict, get_feats_list\n",
    "from insert_facts import task_sp_facts\n",
    "import warnings\n",
    "warnings.simplefilter(action='ignore', category=FutureWarning)\n",
    "SPDB = task_sp_db()\n",
    "Tasks = task_sp_facts()"
   ]
  },
  {
   "cell_type": "code",
   "execution_count": 2,
   "metadata": {},
   "outputs": [
    {
     "data": {
      "application/vnd.jupyter.widget-view+json": {
       "model_id": "8c567b4672e5466ba8f879e4c6e3c10d",
       "version_major": 2,
       "version_minor": 0
      },
      "text/plain": [
       "HBox(children=(Text(value='', description='task uid'), Text(value='', description='описание'), Button(button_s…"
      ]
     },
     "metadata": {},
     "output_type": "display_data"
    }
   ],
   "source": [
    "# создать задачу\n",
    "task_name = wg.Text(description='task uid')\n",
    "task_desc = wg.Text(description='описание')\n",
    "add_task_button= wg.Button(description='добавить задачу', button_style='warning')\n",
    "def add_task(b):\n",
    "    Tasks.add_task(task_name.value, task_desc.value)\n",
    "add_task_button.on_click(add_task)\n",
    "display(wg.HBox([task_name, task_desc, add_task_button]))"
   ]
  },
  {
   "cell_type": "code",
   "execution_count": 3,
   "metadata": {},
   "outputs": [
    {
     "data": {
      "application/vnd.jupyter.widget-view+json": {
       "model_id": "f2efcc64b90f4a25b625a8b9b51352aa",
       "version_major": 2,
       "version_minor": 0
      },
      "text/plain": [
       "VBox(children=(HBox(children=(Text(value='', description='task_uid'), Text(value='', description='description'…"
      ]
     },
     "metadata": {},
     "output_type": "display_data"
    }
   ],
   "source": [
    "# ввод всех данных о задаче\n",
    "task_widgets = [wg.Text(description='task_uid'), wg.Text(description='description')]\n",
    "crit_dict = get_crit_dict()\n",
    "crit_range = [i+1 for i in range(SPDB.ranges)]\n",
    "pers_dict = get_pers_dict()\n",
    "prop_dict = get_prop_dict()\n",
    "prop_widgets = []\n",
    "for i_prop in prop_dict:\n",
    "    prop_widgets += [wg.Dropdown(description=i_prop, options=list(get_prop_option_dict(prop_dict[i_prop])))]\n",
    "repformers_widgets = [wg.Checkbox(description=i_pers) for i_pers in pers_dict]\n",
    "crit_widgets = []\n",
    "for i_pers in pers_dict:\n",
    "    pers_widgets = [wg.Label(value=i_pers)]\n",
    "    for i_crit in crit_dict:\n",
    "        pers_widgets += [wg.BoundedIntText(description=i_crit, min=0, max=get_crit_range(), step=1)]\n",
    "    crit_widgets += [pers_widgets]\n",
    "\n",
    "target_val_widget = wg.BoundedFloatText(description='target_val', min=0, max=150, step=0.01)\n",
    "\n",
    "add_task_button= wg.Button(description='добавить задачу', button_style='warning')\n",
    "def add_task(b):\n",
    "    if task_widgets[0].value:\n",
    "        if task_widgets[1].value:\n",
    "            Tasks.add_task(task_widgets[0].value, task_widgets[1].value)\n",
    "            for i in repformers_widgets:\n",
    "                if i.value:\n",
    "                    Tasks.add_performer(task_widgets[0].value, i.description, 1)\n",
    "            for i in crit_widgets:\n",
    "                for j in i[1:]:\n",
    "                    Tasks.add_task_crit(task_widgets[0].value, i[0].value, j.description, j.value)\n",
    "            for i in prop_widgets:\n",
    "                Tasks.add_task_prop(task_widgets[0].value, i.description, i.value)\n",
    "            if  float(target_val_widget.value)>0:\n",
    "                Tasks.add_task_target(task_widgets[0].value, float(target_val_widget.value))\n",
    "            print(f'задача {task_widgets[0].value} добавлена')\n",
    "        else:\n",
    "            print('Не задано описание задачи')\n",
    "    else:\n",
    "        print('Не задано имя задачи')\n",
    "add_task_button.on_click(add_task)\n",
    "\n",
    "display(wg.VBox([wg.HBox(task_widgets), wg.HBox(prop_widgets), wg.HBox(repformers_widgets)]+[wg.HBox(i) for i in crit_widgets]+[target_val_widget]+[add_task_button]))"
   ]
  },
  {
   "cell_type": "code",
   "execution_count": 6,
   "metadata": {},
   "outputs": [
    {
     "data": {
      "text/plain": [
       "{'BR099': 7.893079700606555,\n",
       " 'BS-033': 7.731917293242805,\n",
       " 'tar2': 3.348157178625736,\n",
       " 'tar3': 9.17311517414059,\n",
       " 'tar5': 9.339007186811019,\n",
       " 'targ1': 7.706053678301453}"
      ]
     },
     "execution_count": 6,
     "metadata": {},
     "output_type": "execute_result"
    }
   ],
   "source": [
    "from insert_facts import get_train_test\n",
    "from ml_func import get_predict\n",
    "train_X, train_y, pred_X, pred_y = get_train_test()\n",
    "get_predict(pred_X)"
   ]
  },
  {
   "cell_type": "code",
   "execution_count": 7,
   "metadata": {},
   "outputs": [
    {
     "name": "stdout",
     "output_type": "stream",
     "text": [
      "Best parameters: {'learning_rate': 0.25, 'max_depth': 3, 'n_estimators': 10, 'subsample': 0.5}\n",
      "Best score: -3.1341379592826533\n"
     ]
    }
   ],
   "source": [
    "from ml_func import train_ml_model\n",
    "train_ml_model()"
   ]
  }
 ],
 "metadata": {
  "kernelspec": {
   "display_name": "Vault_env",
   "language": "python",
   "name": "python3"
  },
  "language_info": {
   "codemirror_mode": {
    "name": "ipython",
    "version": 3
   },
   "file_extension": ".py",
   "mimetype": "text/x-python",
   "name": "python",
   "nbconvert_exporter": "python",
   "pygments_lexer": "ipython3",
   "version": "3.11.2"
  },
  "orig_nbformat": 4
 },
 "nbformat": 4,
 "nbformat_minor": 2
}
